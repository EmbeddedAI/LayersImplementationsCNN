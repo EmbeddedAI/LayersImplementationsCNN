{
 "cells": [
  {
   "cell_type": "code",
   "execution_count": 2,
   "metadata": {},
   "outputs": [
    {
     "name": "stdout",
     "output_type": "stream",
     "text": [
      "x(step0): [[[[0.31455445 0.13217592 0.40529144]\n",
      "   [0.7373042  0.20413649 0.15066624]]]\n",
      "\n",
      "\n",
      " [[[0.05149686 0.4641961  0.40172493]\n",
      "   [0.53219056 0.28925872 0.24617374]]]]\n",
      "moving_mean(step0):  [0.7044433  0.63622093 0.65048206]\n",
      "moving_var(step0):  [0.532461   0.5076741  0.50582856]\n",
      "y(step0): [[[[-0.36740422 -1.0970279   0.92732334]\n",
      "   [ 1.2791202  -0.53422    -1.3359364 ]]]\n",
      "\n",
      "\n",
      " [[[-1.3919601   1.4997215   0.895622  ]\n",
      "   [ 0.48024416  0.131526   -0.4870093 ]]]]\n"
     ]
    }
   ],
   "source": [
    "import os\n",
    "os.environ['TF_CPP_MIN_LOG_LEVEL'] = '2'\n",
    "\n",
    "import tensorflow as tf\n",
    "\n",
    "bn = tf.keras.layers.BatchNormalization(momentum=0.5,\n",
    "    beta_initializer='zeros', gamma_initializer='ones',\n",
    "    moving_mean_initializer='ones', moving_variance_initializer='ones',\n",
    "    fused=False)\n",
    "# Training Step 0 (skip the real scale/offset update)\n",
    "x0 = tf.random.uniform((2,1,2,3))\n",
    "print(\"x(step0):\", x0.numpy())\n",
    "\n",
    "y0 = bn(x0, training=True)\n",
    "print(\"moving_mean(step0): \", bn.moving_mean.numpy())\n",
    "print(\"moving_var(step0): \", bn.moving_variance.numpy())\n",
    "print(\"y(step0):\", y0.numpy())"
   ]
  }
 ],
 "metadata": {
  "interpreter": {
   "hash": "916dbcbb3f70747c44a77c7bcd40155683ae19c65e1c03b4aa3499c5328201f1"
  },
  "kernelspec": {
   "display_name": "Python 3.8.10 64-bit",
   "language": "python",
   "name": "python3"
  },
  "language_info": {
   "codemirror_mode": {
    "name": "ipython",
    "version": 3
   },
   "file_extension": ".py",
   "mimetype": "text/x-python",
   "name": "python",
   "nbconvert_exporter": "python",
   "pygments_lexer": "ipython3",
   "version": "3.8.10"
  },
  "orig_nbformat": 4
 },
 "nbformat": 4,
 "nbformat_minor": 2
}
