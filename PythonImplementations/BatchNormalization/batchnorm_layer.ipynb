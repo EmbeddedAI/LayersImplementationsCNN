{
 "cells": [
  {
   "cell_type": "code",
   "execution_count": 15,
   "metadata": {},
   "outputs": [
    {
     "name": "stdout",
     "output_type": "stream",
     "text": [
      "3.5\n",
      "\n",
      "2.5\n"
     ]
    }
   ],
   "source": [
    "import os\n",
    "os.environ['TF_CPP_MIN_LOG_LEVEL'] = '2'\n",
    "\n",
    "import numpy as np\n",
    "import tensorflow as tf\n",
    "from tensorflow.keras.layers import BatchNormalization\n",
    "\n",
    "epsilon = 0#.000001\n",
    "\n",
    "data_x = np.array([1,1.5,2,2.5,3,3.5,4,4.5,5,5.5,6])\n",
    "data_y = [0.169610272, 0.283395813, 0.386358738, 0.470227872, 0.433281294, 0.600267648, 0.73833898, 0.79031502, 0.877464268, 0.843564462, 0.964438917]\n",
    "\n",
    "print(data_x.size)\n",
    "print()\n",
    "print(data_x.mean())\n",
    "print()\n",
    "print(data_x.var())\n",
    "\n",
    "# bn = BatchNormalization(momentum=0.5, epsilon=epsilon,\n",
    "#     beta_initializer='zeros', gamma_initializer='ones',\n",
    "#     moving_mean_initializer='ones', moving_variance_initializer='ones',\n",
    "#     fused=False)\n",
    "# model = tf.keras.Sequential(bn)\n",
    "# model.compile(optimizer='sgd',loss='mean_squared_error')\n",
    "# model.fit(x=data_x, y=data_y, epochs=30)\n",
    "# #x0 = tf.random.uniform((2,1,2,3))\n",
    "# #print(\"x(step0):\", x0.numpy())\n",
    "\n",
    "# #y0 = bn(x0, training=True)\n",
    "\n",
    "# print(\"moving_mean:\", bn.moving_mean.numpy())\n",
    "# print(\"moving_variance:\", bn.moving_variance.numpy())\n",
    "\n",
    "\n",
    "#print(model.predict(data_x))"
   ]
  }
 ],
 "metadata": {
  "interpreter": {
   "hash": "916dbcbb3f70747c44a77c7bcd40155683ae19c65e1c03b4aa3499c5328201f1"
  },
  "kernelspec": {
   "display_name": "Python 3.8.10 64-bit",
   "language": "python",
   "name": "python3"
  },
  "language_info": {
   "codemirror_mode": {
    "name": "ipython",
    "version": 3
   },
   "file_extension": ".py",
   "mimetype": "text/x-python",
   "name": "python",
   "nbconvert_exporter": "python",
   "pygments_lexer": "ipython3",
   "version": "3.8.10"
  },
  "orig_nbformat": 4
 },
 "nbformat": 4,
 "nbformat_minor": 2
}
