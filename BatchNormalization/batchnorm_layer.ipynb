{
 "cells": [
  {
   "cell_type": "markdown",
   "metadata": {},
   "source": [
    "# Layer Implementations: BatchNormalization BN"
   ]
  },
  {
   "cell_type": "markdown",
   "metadata": {},
   "source": [
    "Students: Juan Sebastián Barreto Jimenez y Juan Camilo Devia Bastos\n",
    "\n",
    "Consultant: Ing. Eduardo Andrés Gerlien Reyes\n",
    "\n",
    "Client: Ing. Olga Lucía Quintero Montoya"
   ]
  },
  {
   "cell_type": "markdown",
   "metadata": {},
   "source": [
    "## Avoid warnings"
   ]
  },
  {
   "cell_type": "code",
   "execution_count": 52,
   "metadata": {},
   "outputs": [],
   "source": [
    "# Avoid warnings in terminal\n",
    "import os\n",
    "os.environ['TF_CPP_MIN_LOG_LEVEL'] = '2'"
   ]
  },
  {
   "cell_type": "markdown",
   "metadata": {},
   "source": [
    "## Libraries"
   ]
  },
  {
   "cell_type": "code",
   "execution_count": 53,
   "metadata": {},
   "outputs": [],
   "source": [
    "from tensorflow.keras import Sequential\n",
    "from tensorflow.keras.layers import BatchNormalization"
   ]
  },
  {
   "cell_type": "markdown",
   "metadata": {},
   "source": [
    "## Data"
   ]
  },
  {
   "cell_type": "code",
   "execution_count": 54,
   "metadata": {},
   "outputs": [],
   "source": [
    "epsilon = 0#.000001\n",
    "data_x = [1,1.5,2,2.5,3,3.5,4,4.5,5,5.5,6]\n",
    "data_y = [0.169610272, 0.283395813, 0.386358738, 0.470227872, 0.433281294, 0.600267648, 0.73833898, 0.79031502, 0.877464268, 0.843564462, 0.964438917]"
   ]
  },
  {
   "cell_type": "markdown",
   "metadata": {},
   "source": [
    "## Layer BatchNormalization"
   ]
  },
  {
   "cell_type": "code",
   "execution_count": 55,
   "metadata": {},
   "outputs": [
    {
     "name": "stdout",
     "output_type": "stream",
     "text": [
      "Epoch 1/30\n",
      "1/1 [==============================] - 1s 1s/step - loss: 0.9226\n",
      "Epoch 2/30\n",
      "1/1 [==============================] - 0s 7ms/step - loss: 0.9226\n",
      "Epoch 3/30\n",
      "1/1 [==============================] - 0s 15ms/step - loss: 0.9226\n",
      "Epoch 4/30\n",
      "1/1 [==============================] - 0s 7ms/step - loss: 0.9226\n",
      "Epoch 5/30\n",
      "1/1 [==============================] - 0s 9ms/step - loss: 0.9226\n",
      "Epoch 6/30\n",
      "1/1 [==============================] - 0s 5ms/step - loss: 0.9226\n",
      "Epoch 7/30\n",
      "1/1 [==============================] - 0s 11ms/step - loss: 0.9226\n",
      "Epoch 8/30\n",
      "1/1 [==============================] - 0s 9ms/step - loss: 0.9226\n",
      "Epoch 9/30\n",
      "1/1 [==============================] - 0s 6ms/step - loss: 0.9226\n",
      "Epoch 10/30\n",
      "1/1 [==============================] - 0s 6ms/step - loss: 0.9226\n",
      "Epoch 11/30\n",
      "1/1 [==============================] - 0s 11ms/step - loss: 0.9226\n",
      "Epoch 12/30\n",
      "1/1 [==============================] - 0s 5ms/step - loss: 0.9226\n",
      "Epoch 13/30\n",
      "1/1 [==============================] - 0s 6ms/step - loss: 0.9226\n",
      "Epoch 14/30\n",
      "1/1 [==============================] - 0s 3ms/step - loss: 0.9226\n",
      "Epoch 15/30\n",
      "1/1 [==============================] - 0s 9ms/step - loss: 0.9226\n",
      "Epoch 16/30\n",
      "1/1 [==============================] - 0s 5ms/step - loss: 0.9226\n",
      "Epoch 17/30\n",
      "1/1 [==============================] - 0s 7ms/step - loss: 0.9226\n",
      "Epoch 18/30\n",
      "1/1 [==============================] - 0s 5ms/step - loss: 0.9226\n",
      "Epoch 19/30\n",
      "1/1 [==============================] - 0s 55ms/step - loss: 0.9226\n",
      "Epoch 20/30\n",
      "1/1 [==============================] - 0s 7ms/step - loss: 0.9226\n",
      "Epoch 21/30\n",
      "1/1 [==============================] - 0s 5ms/step - loss: 0.9226\n",
      "Epoch 22/30\n",
      "1/1 [==============================] - 0s 5ms/step - loss: 0.9226\n",
      "Epoch 23/30\n",
      "1/1 [==============================] - 0s 6ms/step - loss: 0.9226\n",
      "Epoch 24/30\n",
      "1/1 [==============================] - 0s 3ms/step - loss: 0.9226\n",
      "Epoch 25/30\n",
      "1/1 [==============================] - 0s 6ms/step - loss: 0.9226\n",
      "Epoch 26/30\n",
      "1/1 [==============================] - 0s 4ms/step - loss: 0.9226\n",
      "Epoch 27/30\n",
      "1/1 [==============================] - 0s 6ms/step - loss: 0.9226\n",
      "Epoch 28/30\n",
      "1/1 [==============================] - 0s 6ms/step - loss: 0.9226\n",
      "Epoch 29/30\n",
      "1/1 [==============================] - 0s 6ms/step - loss: 0.9226\n",
      "Epoch 30/30\n",
      "1/1 [==============================] - 0s 6ms/step - loss: 0.9226\n",
      "x: [1, 1.5, 2, 2.5, 3, 3.5, 4, 4.5, 5, 5.5, 6]\n",
      "moving_mean: [3.5]\n",
      "moving_variance: [2.5]\n",
      "gamma: None\n",
      "beta: None\n",
      "epsilon: 0\n",
      "[[-1.5811388 ]\n",
      " [-1.2649112 ]\n",
      " [-0.9486834 ]\n",
      " [-0.6324556 ]\n",
      " [-0.3162279 ]\n",
      " [ 0.        ]\n",
      " [ 0.31622767]\n",
      " [ 0.63245535]\n",
      " [ 0.94868326]\n",
      " [ 1.2649109 ]\n",
      " [ 1.5811386 ]]\n"
     ]
    }
   ],
   "source": [
    "bn = BatchNormalization(momentum=0.5, epsilon=epsilon,\n",
    "    beta_initializer='zeros', gamma_initializer='ones',\n",
    "    moving_mean_initializer='ones', moving_variance_initializer='ones',\n",
    "    fused=False, scale=False, center=False)\n",
    "model = Sequential(bn)\n",
    "model.compile(optimizer='sgd',loss='mean_squared_error')\n",
    "model.fit(x=data_x, y=data_y, epochs=30)\n",
    "\n",
    "print(\"x:\", data_x)\n",
    "print(\"moving_mean:\", bn.moving_mean.numpy())\n",
    "print(\"moving_variance:\", bn.moving_variance.numpy())\n",
    "print(\"gamma:\", bn.gamma)\n",
    "print(\"beta:\", bn.beta)\n",
    "print(\"epsilon:\", bn.epsilon)\n",
    "\n",
    "print(model.predict(data_x))"
   ]
  }
 ],
 "metadata": {
  "interpreter": {
   "hash": "916dbcbb3f70747c44a77c7bcd40155683ae19c65e1c03b4aa3499c5328201f1"
  },
  "kernelspec": {
   "display_name": "Python 3.8.10 64-bit",
   "language": "python",
   "name": "python3"
  },
  "language_info": {
   "codemirror_mode": {
    "name": "ipython",
    "version": 3
   },
   "file_extension": ".py",
   "mimetype": "text/x-python",
   "name": "python",
   "nbconvert_exporter": "python",
   "pygments_lexer": "ipython3",
   "version": "3.8.10"
  },
  "orig_nbformat": 4
 },
 "nbformat": 4,
 "nbformat_minor": 2
}
